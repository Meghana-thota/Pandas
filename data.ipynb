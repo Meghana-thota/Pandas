{
 "cells": [
  {
   "cell_type": "code",
   "execution_count": 2,
   "id": "a3484066",
   "metadata": {},
   "outputs": [
    {
     "name": "stdout",
     "output_type": "stream",
     "text": [
      "    cars  passings\n",
      "0    BMW         3\n",
      "1  Volvo         7\n",
      "2   Ford         2\n"
     ]
    }
   ],
   "source": [
    "import pandas as pd\n",
    "\n",
    "mydataset = {\n",
    "  'cars': [\"BMW\", \"Volvo\", \"Ford\"],\n",
    "  'passings': [3, 7, 2]\n",
    "}\n",
    "\n",
    "myvar = pandas.DataFrame(mydataset) #creating a dataframe\n",
    "\n",
    "print(myvar)"
   ]
  },
  {
   "cell_type": "code",
   "execution_count": 5,
   "id": "a7401cd2",
   "metadata": {},
   "outputs": [
    {
     "name": "stdout",
     "output_type": "stream",
     "text": [
      "  boyfreind girlfreind\n",
      "0     vamsi    meghana\n"
     ]
    }
   ],
   "source": [
    "mydata={\n",
    "    'boyfreind': [\"vamsi\"],\n",
    "    'girlfreind':[\"meghana\"]\n",
    "}\n",
    "\n",
    "var= pd.DataFrame(mydata)\n",
    "print(var)"
   ]
  },
  {
   "cell_type": "code",
   "execution_count": 7,
   "id": "187db77b",
   "metadata": {},
   "outputs": [
    {
     "name": "stdout",
     "output_type": "stream",
     "text": [
      "2.0.3\n"
     ]
    }
   ],
   "source": [
    "print(pd.__version__)"
   ]
  },
  {
   "cell_type": "code",
   "execution_count": 12,
   "id": "477513b2",
   "metadata": {},
   "outputs": [
    {
     "data": {
      "text/plain": [
       "a    1\n",
       "b    2\n",
       "dtype: int64"
      ]
     },
     "execution_count": 12,
     "metadata": {},
     "output_type": "execute_result"
    }
   ],
   "source": [
    "a=[1,2]\n",
    "myvar= pd.Series(a, index=[\"a\",\"b\"])\n",
    "myvar"
   ]
  },
  {
   "cell_type": "code",
   "execution_count": 13,
   "id": "b29765f0",
   "metadata": {},
   "outputs": [
    {
     "name": "stdout",
     "output_type": "stream",
     "text": [
      "1\n"
     ]
    }
   ],
   "source": [
    "print(myvar['a'])"
   ]
  },
  {
   "cell_type": "code",
   "execution_count": 14,
   "id": "6b051453",
   "metadata": {},
   "outputs": [
    {
     "name": "stdout",
     "output_type": "stream",
     "text": [
      "day1    420\n",
      "day2    380\n",
      "day3    390\n",
      "dtype: int64\n"
     ]
    }
   ],
   "source": [
    "import pandas as pd\n",
    "\n",
    "calories = {\"day1\": 420, \"day2\": 380, \"day3\": 390}\n",
    "\n",
    "myvar = pd.Series(calories)\n",
    "\n",
    "print(myvar)"
   ]
  },
  {
   "cell_type": "code",
   "execution_count": 15,
   "id": "c16e4769",
   "metadata": {},
   "outputs": [
    {
     "name": "stdout",
     "output_type": "stream",
     "text": [
      "day1    420\n",
      "dtype: int64\n"
     ]
    }
   ],
   "source": [
    "import pandas as pd\n",
    "\n",
    "calories = {\"day1\": 420, \"day2\": 380, \"day3\": 390}\n",
    "\n",
    "myvar = pd.Series(calories, index=[\"day1\"])\n",
    "\n",
    "print(myvar)"
   ]
  },
  {
   "cell_type": "code",
   "execution_count": 31,
   "id": "d2b769e7",
   "metadata": {},
   "outputs": [
    {
     "name": "stdout",
     "output_type": "stream",
     "text": [
      "   boyfreind girlfreind\n",
      "p1     vamsi    meghana\n",
      "p2   rakshit     anusha\n",
      "p3   bharath    bhavana\n",
      "p4       cat        dog\n"
     ]
    }
   ],
   "source": [
    "mydata={\n",
    "    'boyfreind': [\"vamsi\",\"rakshit\",\"bharath\",\"cat\"],\n",
    "    'girlfreind':[\"meghana\",\"anusha\",\"bhavana\",\"dog\"]\n",
    "}\n",
    "\n",
    "var= pd.DataFrame(mydata, index= [\"p1\",\"p2\",\"p3\",\"p4\"])\n",
    "print(var)"
   ]
  },
  {
   "cell_type": "code",
   "execution_count": 34,
   "id": "4805d2da",
   "metadata": {},
   "outputs": [
    {
     "name": "stdout",
     "output_type": "stream",
     "text": [
      "   boyfreind girlfreind\n",
      "p1     vamsi    meghana\n"
     ]
    }
   ],
   "source": [
    "print(var.loc[[\"p1\"]])"
   ]
  },
  {
   "cell_type": "code",
   "execution_count": 39,
   "id": "a4d7f28c",
   "metadata": {},
   "outputs": [
    {
     "name": "stdout",
     "output_type": "stream",
     "text": [
      "       date  EstimatedCost  RawMaterial  Workmanship  StorageCost\n",
      "0    1/1/19           1094          211          386           40\n",
      "1    2/1/19           2850          523          199           49\n",
      "2    3/1/19           2168          580          236           39\n",
      "3    4/1/19           1370          368          559           34\n",
      "4    5/1/19           2429          550          291           33\n",
      "5    6/1/19           1644          143          395           31\n",
      "6    7/1/19           1641          640          497           30\n",
      "7    8/1/19           2340          673          472           29\n",
      "8    9/1/19           2327           90           31           32\n",
      "9   10/1/19           1486          398          528           33\n",
      "10  11/1/19            383           21           48           34\n",
      "11  12/1/19            451          416          441           38\n",
      "12   1/1/20            900          514           60           42\n",
      "13   2/1/20           1653          201          558           43\n",
      "14   3/1/20           1070          271           32           42\n",
      "15   4/1/20            443          452          149           43\n",
      "16   5/1/20           2473          344          223           50\n",
      "17   6/1/20           1453          478           17           50\n",
      "18   7/1/20           1659          599          276           55\n",
      "19   8/1/20            761          673          392           48\n",
      "20   9/1/20            930          469           43           40\n"
     ]
    }
   ],
   "source": [
    "import pandas as pd\n",
    "\n",
    "df = pd.read_csv('data_sample.csv')\n",
    "\n",
    "print(df.to_string()) "
   ]
  },
  {
   "cell_type": "code",
   "execution_count": 40,
   "id": "4a17d591",
   "metadata": {},
   "outputs": [
    {
     "ename": "NameError",
     "evalue": "name 'date' is not defined",
     "output_type": "error",
     "traceback": [
      "\u001b[0;31m---------------------------------------------------------------------------\u001b[0m",
      "\u001b[0;31mNameError\u001b[0m                                 Traceback (most recent call last)",
      "Cell \u001b[0;32mIn[40], line 1\u001b[0m\n\u001b[0;32m----> 1\u001b[0m date\u001b[38;5;241m.\u001b[39mdtype()\n",
      "\u001b[0;31mNameError\u001b[0m: name 'date' is not defined"
     ]
    }
   ],
   "source": [
    "date.dtype()"
   ]
  },
  {
   "cell_type": "code",
   "execution_count": 42,
   "id": "fd5e7906",
   "metadata": {},
   "outputs": [
    {
     "name": "stdout",
     "output_type": "stream",
     "text": [
      "       date  EstimatedCost  RawMaterial  Workmanship  StorageCost\n",
      "0    1/1/19           1094          211          386           40\n",
      "1    2/1/19           2850          523          199           49\n",
      "2    3/1/19           2168          580          236           39\n",
      "3    4/1/19           1370          368          559           34\n",
      "4    5/1/19           2429          550          291           33\n",
      "5    6/1/19           1644          143          395           31\n",
      "6    7/1/19           1641          640          497           30\n",
      "7    8/1/19           2340          673          472           29\n",
      "8    9/1/19           2327           90           31           32\n",
      "9   10/1/19           1486          398          528           33\n",
      "10  11/1/19            383           21           48           34\n",
      "11  12/1/19            451          416          441           38\n",
      "12   1/1/20            900          514           60           42\n",
      "13   2/1/20           1653          201          558           43\n",
      "14   3/1/20           1070          271           32           42\n",
      "15   4/1/20            443          452          149           43\n",
      "16   5/1/20           2473          344          223           50\n",
      "17   6/1/20           1453          478           17           50\n",
      "18   7/1/20           1659          599          276           55\n",
      "19   8/1/20            761          673          392           48\n",
      "20   9/1/20            930          469           43           40\n"
     ]
    }
   ],
   "source": [
    "import pandas as pd\n",
    "\n",
    "df = pd.read_csv('data_sample.csv')\n",
    "\n",
    "print(df) "
   ]
  },
  {
   "cell_type": "code",
   "execution_count": 43,
   "id": "bb0f0c52",
   "metadata": {},
   "outputs": [
    {
     "name": "stdout",
     "output_type": "stream",
     "text": [
      "60\n"
     ]
    }
   ],
   "source": [
    "import pandas as pd\n",
    "\n",
    "print(pd.options.display.max_rows) "
   ]
  },
  {
   "cell_type": "code",
   "execution_count": 44,
   "id": "3d2a8a0d",
   "metadata": {},
   "outputs": [
    {
     "name": "stdout",
     "output_type": "stream",
     "text": [
      "<class 'pandas.core.frame.DataFrame'>\n",
      "RangeIndex: 21 entries, 0 to 20\n",
      "Data columns (total 5 columns):\n",
      " #   Column         Non-Null Count  Dtype \n",
      "---  ------         --------------  ----- \n",
      " 0   date           21 non-null     object\n",
      " 1   EstimatedCost  21 non-null     int64 \n",
      " 2   RawMaterial    21 non-null     int64 \n",
      " 3   Workmanship    21 non-null     int64 \n",
      " 4   StorageCost    21 non-null     int64 \n",
      "dtypes: int64(4), object(1)\n",
      "memory usage: 972.0+ bytes\n",
      "None\n"
     ]
    }
   ],
   "source": [
    "print(df.info())"
   ]
  },
  {
   "cell_type": "code",
   "execution_count": 45,
   "id": "8cb19ee0",
   "metadata": {},
   "outputs": [],
   "source": [
    "df=df.dropna() #removes null values"
   ]
  },
  {
   "cell_type": "code",
   "execution_count": 46,
   "id": "6ff490d2",
   "metadata": {},
   "outputs": [
    {
     "data": {
      "text/html": [
       "<div>\n",
       "<style scoped>\n",
       "    .dataframe tbody tr th:only-of-type {\n",
       "        vertical-align: middle;\n",
       "    }\n",
       "\n",
       "    .dataframe tbody tr th {\n",
       "        vertical-align: top;\n",
       "    }\n",
       "\n",
       "    .dataframe thead th {\n",
       "        text-align: right;\n",
       "    }\n",
       "</style>\n",
       "<table border=\"1\" class=\"dataframe\">\n",
       "  <thead>\n",
       "    <tr style=\"text-align: right;\">\n",
       "      <th></th>\n",
       "      <th>date</th>\n",
       "      <th>EstimatedCost</th>\n",
       "      <th>RawMaterial</th>\n",
       "      <th>Workmanship</th>\n",
       "      <th>StorageCost</th>\n",
       "    </tr>\n",
       "  </thead>\n",
       "  <tbody>\n",
       "    <tr>\n",
       "      <th>0</th>\n",
       "      <td>1/1/19</td>\n",
       "      <td>1094</td>\n",
       "      <td>211</td>\n",
       "      <td>386</td>\n",
       "      <td>40</td>\n",
       "    </tr>\n",
       "    <tr>\n",
       "      <th>1</th>\n",
       "      <td>2/1/19</td>\n",
       "      <td>2850</td>\n",
       "      <td>523</td>\n",
       "      <td>199</td>\n",
       "      <td>49</td>\n",
       "    </tr>\n",
       "    <tr>\n",
       "      <th>2</th>\n",
       "      <td>3/1/19</td>\n",
       "      <td>2168</td>\n",
       "      <td>580</td>\n",
       "      <td>236</td>\n",
       "      <td>39</td>\n",
       "    </tr>\n",
       "    <tr>\n",
       "      <th>3</th>\n",
       "      <td>4/1/19</td>\n",
       "      <td>1370</td>\n",
       "      <td>368</td>\n",
       "      <td>559</td>\n",
       "      <td>34</td>\n",
       "    </tr>\n",
       "    <tr>\n",
       "      <th>4</th>\n",
       "      <td>5/1/19</td>\n",
       "      <td>2429</td>\n",
       "      <td>550</td>\n",
       "      <td>291</td>\n",
       "      <td>33</td>\n",
       "    </tr>\n",
       "    <tr>\n",
       "      <th>5</th>\n",
       "      <td>6/1/19</td>\n",
       "      <td>1644</td>\n",
       "      <td>143</td>\n",
       "      <td>395</td>\n",
       "      <td>31</td>\n",
       "    </tr>\n",
       "    <tr>\n",
       "      <th>6</th>\n",
       "      <td>7/1/19</td>\n",
       "      <td>1641</td>\n",
       "      <td>640</td>\n",
       "      <td>497</td>\n",
       "      <td>30</td>\n",
       "    </tr>\n",
       "    <tr>\n",
       "      <th>7</th>\n",
       "      <td>8/1/19</td>\n",
       "      <td>2340</td>\n",
       "      <td>673</td>\n",
       "      <td>472</td>\n",
       "      <td>29</td>\n",
       "    </tr>\n",
       "    <tr>\n",
       "      <th>8</th>\n",
       "      <td>9/1/19</td>\n",
       "      <td>2327</td>\n",
       "      <td>90</td>\n",
       "      <td>31</td>\n",
       "      <td>32</td>\n",
       "    </tr>\n",
       "    <tr>\n",
       "      <th>9</th>\n",
       "      <td>10/1/19</td>\n",
       "      <td>1486</td>\n",
       "      <td>398</td>\n",
       "      <td>528</td>\n",
       "      <td>33</td>\n",
       "    </tr>\n",
       "    <tr>\n",
       "      <th>10</th>\n",
       "      <td>11/1/19</td>\n",
       "      <td>383</td>\n",
       "      <td>21</td>\n",
       "      <td>48</td>\n",
       "      <td>34</td>\n",
       "    </tr>\n",
       "    <tr>\n",
       "      <th>11</th>\n",
       "      <td>12/1/19</td>\n",
       "      <td>451</td>\n",
       "      <td>416</td>\n",
       "      <td>441</td>\n",
       "      <td>38</td>\n",
       "    </tr>\n",
       "    <tr>\n",
       "      <th>12</th>\n",
       "      <td>1/1/20</td>\n",
       "      <td>900</td>\n",
       "      <td>514</td>\n",
       "      <td>60</td>\n",
       "      <td>42</td>\n",
       "    </tr>\n",
       "    <tr>\n",
       "      <th>13</th>\n",
       "      <td>2/1/20</td>\n",
       "      <td>1653</td>\n",
       "      <td>201</td>\n",
       "      <td>558</td>\n",
       "      <td>43</td>\n",
       "    </tr>\n",
       "    <tr>\n",
       "      <th>14</th>\n",
       "      <td>3/1/20</td>\n",
       "      <td>1070</td>\n",
       "      <td>271</td>\n",
       "      <td>32</td>\n",
       "      <td>42</td>\n",
       "    </tr>\n",
       "    <tr>\n",
       "      <th>15</th>\n",
       "      <td>4/1/20</td>\n",
       "      <td>443</td>\n",
       "      <td>452</td>\n",
       "      <td>149</td>\n",
       "      <td>43</td>\n",
       "    </tr>\n",
       "    <tr>\n",
       "      <th>16</th>\n",
       "      <td>5/1/20</td>\n",
       "      <td>2473</td>\n",
       "      <td>344</td>\n",
       "      <td>223</td>\n",
       "      <td>50</td>\n",
       "    </tr>\n",
       "    <tr>\n",
       "      <th>17</th>\n",
       "      <td>6/1/20</td>\n",
       "      <td>1453</td>\n",
       "      <td>478</td>\n",
       "      <td>17</td>\n",
       "      <td>50</td>\n",
       "    </tr>\n",
       "    <tr>\n",
       "      <th>18</th>\n",
       "      <td>7/1/20</td>\n",
       "      <td>1659</td>\n",
       "      <td>599</td>\n",
       "      <td>276</td>\n",
       "      <td>55</td>\n",
       "    </tr>\n",
       "    <tr>\n",
       "      <th>19</th>\n",
       "      <td>8/1/20</td>\n",
       "      <td>761</td>\n",
       "      <td>673</td>\n",
       "      <td>392</td>\n",
       "      <td>48</td>\n",
       "    </tr>\n",
       "    <tr>\n",
       "      <th>20</th>\n",
       "      <td>9/1/20</td>\n",
       "      <td>930</td>\n",
       "      <td>469</td>\n",
       "      <td>43</td>\n",
       "      <td>40</td>\n",
       "    </tr>\n",
       "  </tbody>\n",
       "</table>\n",
       "</div>"
      ],
      "text/plain": [
       "       date  EstimatedCost  RawMaterial  Workmanship  StorageCost\n",
       "0    1/1/19           1094          211          386           40\n",
       "1    2/1/19           2850          523          199           49\n",
       "2    3/1/19           2168          580          236           39\n",
       "3    4/1/19           1370          368          559           34\n",
       "4    5/1/19           2429          550          291           33\n",
       "5    6/1/19           1644          143          395           31\n",
       "6    7/1/19           1641          640          497           30\n",
       "7    8/1/19           2340          673          472           29\n",
       "8    9/1/19           2327           90           31           32\n",
       "9   10/1/19           1486          398          528           33\n",
       "10  11/1/19            383           21           48           34\n",
       "11  12/1/19            451          416          441           38\n",
       "12   1/1/20            900          514           60           42\n",
       "13   2/1/20           1653          201          558           43\n",
       "14   3/1/20           1070          271           32           42\n",
       "15   4/1/20            443          452          149           43\n",
       "16   5/1/20           2473          344          223           50\n",
       "17   6/1/20           1453          478           17           50\n",
       "18   7/1/20           1659          599          276           55\n",
       "19   8/1/20            761          673          392           48\n",
       "20   9/1/20            930          469           43           40"
      ]
     },
     "execution_count": 46,
     "metadata": {},
     "output_type": "execute_result"
    }
   ],
   "source": [
    "df\n"
   ]
  },
  {
   "cell_type": "code",
   "execution_count": 52,
   "id": "1899e359",
   "metadata": {},
   "outputs": [],
   "source": [
    "import matplotlib.pyplot as plt"
   ]
  },
  {
   "cell_type": "code",
   "execution_count": 60,
   "id": "c23685be",
   "metadata": {},
   "outputs": [
    {
     "data": {
      "image/png": "[encoded data removed]",
      "text/plain": [
       "<Figure size 640x480 with 1 Axes>"
      ]
     },
     "metadata": {},
     "output_type": "display_data"
    }
   ],
   "source": [
    "df.plot(kind='bar', x ='RawMaterial', y= 'Workmanship', color='green')\n",
    "plt.show()"
   ]
  },
  {
   "cell_type": "code",
   "execution_count": 61,
   "id": "493f771c",
   "metadata": {},
   "outputs": [
    {
     "data": {
      "text/plain": [
       "<Axes: ylabel='Frequency'>"
      ]
     },
     "execution_count": 61,
     "metadata": {},
     "output_type": "execute_result"
    },
    {
     "data": {
      "image/png": "[encoded data removed]",
      "text/plain": [
       "<Figure size 640x480 with 1 Axes>"
      ]
     },
     "metadata": {},
     "output_type": "display_data"
    }
   ],
   "source": [
    "df['RawMaterial'].plot(kind='hist')"
   ]
  },
  {
   "cell_type": "code",
   "execution_count": null,
   "id": "082eaa7c",
   "metadata": {},
   "outputs": [],
   "source": []
  }
 ],
 "metadata": {
  "kernelspec": {
   "display_name": "Python 3 (ipykernel)",
   "language": "python",
   "name": "python3"
  },
  "language_info": {
   "codemirror_mode": {
    "name": "ipython",
    "version": 3
   },
   "file_extension": ".py",
   "mimetype": "text/x-python",
   "name": "python",
   "nbconvert_exporter": "python",
   "pygments_lexer": "ipython3",
   "version": "3.11.5"
  }
 },
 "nbformat": 4,
 "nbformat_minor": 5
}
